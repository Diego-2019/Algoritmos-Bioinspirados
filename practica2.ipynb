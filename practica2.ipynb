{
 "cells": [
  {
   "cell_type": "markdown",
   "metadata": {},
   "source": [
    "# Practica 2"
   ]
  },
  {
   "cell_type": "code",
   "execution_count": 1,
   "metadata": {},
   "outputs": [],
   "source": [
    "from scipy.optimize import minimize\n",
    "import numpy as np"
   ]
  },
  {
   "cell_type": "markdown",
   "metadata": {},
   "source": [
    "## Consigna 1"
   ]
  },
  {
   "cell_type": "code",
   "execution_count": 2,
   "metadata": {},
   "outputs": [],
   "source": [
    "# Definir la función de Rosenbrock\n",
    "def rosenbrock(x):\n",
    "    return sum(100.0*(x[1:] - x[:-1]**2.0)**2.0 + (1 - x[:-1])**2.0)\n",
    "\n",
    "# Definir la función de Ackley\n",
    "def ackley(x):\n",
    "    a = 20\n",
    "    b = 0.2\n",
    "    c = 2*np.pi\n",
    "    sum_sq_term = -a * np.exp(-b * np.sqrt(sum(x**2) / len(x)))\n",
    "    cos_term = -np.exp(sum(np.cos(c*x) / len(x)))\n",
    "    return a + np.exp(1) + sum_sq_term + cos_term"
   ]
  },
  {
   "cell_type": "code",
   "execution_count": 3,
   "metadata": {},
   "outputs": [],
   "source": [
    "\n",
    "# Definir los límites de las variables para Rosenbrock y Ackley\n",
    "bounds_rosenbrock = [(-2.048, 2.048)] * 10\n",
    "bounds_ackley = [(-32.768, 32.768)] * 10"
   ]
  },
  {
   "cell_type": "code",
   "execution_count": 4,
   "metadata": {},
   "outputs": [],
   "source": [
    "# Definir un punto de partida aleatorio para la optimización\n",
    "np.random.seed(0) # Para reproducibilidad\n",
    "initial_guess_rosenbrock = np.random.uniform(-2, 2, 10)\n",
    "initial_guess_ackley = np.random.uniform(-32, 32, 10)"
   ]
  },
  {
   "cell_type": "code",
   "execution_count": 5,
   "metadata": {},
   "outputs": [],
   "source": [
    "# Ejecutar la optimización para Rosenbrock\n",
    "result_rosenbrock = minimize(rosenbrock, initial_guess_rosenbrock, bounds=bounds_rosenbrock)\n",
    "\n",
    "# Ejecutar la optimización para Ackley\n",
    "result_ackley = minimize(ackley, initial_guess_ackley, bounds=bounds_ackley)"
   ]
  },
  {
   "cell_type": "code",
   "execution_count": 6,
   "metadata": {},
   "outputs": [
    {
     "data": {
      "text/plain": [
       "(  message: CONVERGENCE: REL_REDUCTION_OF_F_<=_FACTR*EPSMCH\n",
       "   success: True\n",
       "    status: 0\n",
       "       fun: 2.385400585035318e-11\n",
       "         x: [ 1.000e+00  1.000e+00  1.000e+00  1.000e+00  1.000e+00\n",
       "              1.000e+00  1.000e+00  1.000e+00  1.000e+00  1.000e+00]\n",
       "       nit: 66\n",
       "       jac: [ 1.594e-06  2.882e-05 -3.269e-05 -5.714e-06 -2.558e-05\n",
       "              2.209e-05  2.299e-05  8.938e-06 -2.270e-05  6.576e-06]\n",
       "      nfev: 880\n",
       "      njev: 80\n",
       "  hess_inv: <10x10 LbfgsInvHessProduct with dtype=float64>,\n",
       "   message: CONVERGENCE: NORM_OF_PROJECTED_GRADIENT_<=_PGTOL\n",
       "   success: True\n",
       "    status: 0\n",
       "       fun: 19.751858091275235\n",
       "         x: [ 1.900e+01  2.000e+00  4.000e+00  2.700e+01 -2.700e+01\n",
       "             -2.600e+01 -3.100e+01  2.100e+01  1.800e+01  2.400e+01]\n",
       "       nit: 10\n",
       "       jac: [-6.750e-06 -1.066e-06  8.171e-06  2.132e-06 -2.487e-06\n",
       "             -6.750e-06  3.553e-06  3.197e-06 -1.776e-06 -6.040e-06]\n",
       "      nfev: 154\n",
       "      njev: 14\n",
       "  hess_inv: <10x10 LbfgsInvHessProduct with dtype=float64>)"
      ]
     },
     "execution_count": 6,
     "metadata": {},
     "output_type": "execute_result"
    }
   ],
   "source": [
    "\n",
    "# Mostrar los resultados\n",
    "result_rosenbrock, result_ackley"
   ]
  },
  {
   "cell_type": "markdown",
   "metadata": {},
   "source": [
    "## Consigna 2"
   ]
  },
  {
   "cell_type": "code",
   "execution_count": null,
   "metadata": {},
   "outputs": [],
   "source": []
  }
 ],
 "metadata": {
  "kernelspec": {
   "display_name": "Python 3",
   "language": "python",
   "name": "python3"
  },
  "language_info": {
   "codemirror_mode": {
    "name": "ipython",
    "version": 3
   },
   "file_extension": ".py",
   "mimetype": "text/x-python",
   "name": "python",
   "nbconvert_exporter": "python",
   "pygments_lexer": "ipython3",
   "version": "3.11.8"
  }
 },
 "nbformat": 4,
 "nbformat_minor": 2
}
